{
 "cells": [
  {
   "cell_type": "markdown",
   "id": "91e0e83c-b2f4-462a-8dcc-f54fd18b0d6d",
   "metadata": {},
   "source": [
    "Q1. What is Min-Max scaling, and how is it used in data preprocessing? Provide an example to illustrate its application.\n",
    "\n",
    "Min-Max scaling is a technique used to scale numeric features to a specific range, typically between 0 and 1. It's calculated by subtracting the minimum value of the feature and then dividing by the range (maximum value minus minimum value).\n",
    "\n",
    "Example: Suppose you have a feature \"age\" with values ranging from 20 to 60. Applying Min-Max scaling would transform these values to a range between 0 and 1, where 20 maps to 0 and 60 maps to 1.\n",
    "\n"
   ]
  },
  {
   "cell_type": "markdown",
   "id": "9d4a3f65-bc60-463a-9b03-a0ead2a0df77",
   "metadata": {},
   "source": [
    "Q2. What is the Unit Vector technique in feature scaling, and how does it differ from Min-Max scaling? Provide an example to illustrate its application.\n",
    "\n",
    "The Unit Vector technique in feature scaling, also known as normalization, scales the values of features to have a unit norm, i.e., a magnitude of 1. It differs from Min-Max scaling in that it does not bound the values to a specific range like 0 to 1.\n",
    "\n",
    "Example: Suppose you have a feature \"price\" with values ranging from 10 to 100. Applying the Unit Vector technique would scale these values such that the magnitude of the resulting vector is 1.\n",
    "\n"
   ]
  },
  {
   "cell_type": "markdown",
   "id": "284f45d5-d2d4-45f6-aeac-a28724593f33",
   "metadata": {},
   "source": [
    "Q3. What is PCA (Principal Component Analysis), and how is it used in dimensionality reduction? Provide an example to illustrate its application.\n",
    "\n",
    "PCA is a dimensionality reduction technique used to transform high-dimensional data into a lower-dimensional representation while preserving most of the variance in the data. It achieves this by identifying the principal components, which are the directions of maximum variance in the data.\n",
    "\n",
    "Example: In a dataset containing multiple correlated features like height, weight, and age, PCA can identify the principal components that capture the most significant variation in the data, allowing you to reduce the dimensionality while retaining most of the information.\n",
    "\n"
   ]
  },
  {
   "cell_type": "markdown",
   "id": "cea5e094-e426-4ec4-82ae-c2ea56abce68",
   "metadata": {},
   "source": [
    "Q4. What is the relationship between PCA and Feature Extraction, and how can PCA be used for Feature Extraction? Provide an example to illustrate this concept.\n",
    "\n",
    "PCA can be used for feature extraction by transforming the original features into a new set of features called principal components. These principal components are linear combinations of the original features and capture the most significant information in the data.\n",
    "\n",
    "Example: In a dataset containing multiple features related to customer demographics and behavior, PCA can extract principal components that represent underlying patterns in the data, such as spending habits or preferences, which can then be used as features for further analysis or modeling.\n",
    "\n"
   ]
  },
  {
   "cell_type": "markdown",
   "id": "10f74d6f-070d-4bed-86ad-5e64306e73a9",
   "metadata": {},
   "source": [
    "Q5. You are working on a project to build a recommendation system for a food delivery service. The dataset contains features such as price, rating, and delivery time. Explain how you would use Min-Max scaling to preprocess the data.\n",
    "\n",
    "To use Min-Max scaling for preprocessing the data, you would apply it to each feature individually. For example, you would calculate the minimum and maximum values of each feature (price, rating, delivery time) in the dataset. Then, for each data point, you would subtract the minimum value of the feature and divide by the range (maximum value minus minimum value). This process would scale each feature to a range between 0 and 1, ensuring that they all have the same scale and preventing features with larger magnitudes from dominating the model.\n",
    "\n"
   ]
  },
  {
   "cell_type": "markdown",
   "id": "0f369f80-e1fc-4238-90a4-a4ad874b29c3",
   "metadata": {},
   "source": [
    "Q6. You are working on a project to build a model to predict stock prices. The dataset contains many features, such as company financial data and market trends. Explain how you would use PCA to reduce the dimensionality of the dataset.\n",
    "\n",
    "To use PCA for dimensionality reduction in the stock price prediction project, you would first standardize the features to have zero mean and unit variance. Then, you would apply PCA to the standardized dataset to identify the principal components that capture the most significant variation in the data. Finally, you would select a subset of the principal components that explain most of the variance in the data while reducing the dimensionality, making the dataset more manageable for modeling.\n",
    "\n",
    "Q7. For a dataset containing the following values: [1, 5, 10, 15, 20], perform Min-Max scaling to transform the values to a range of -1 to 1.\n",
    "\n",
    "To perform Min-Max scaling to a range of -1 to 1:\n",
    "\n",
    "Find the minimum and maximum values of the dataset: min_val = 1, max_val = 20.\n",
    "Apply the Min-Max scaling formula: scaled_value = (x - min_val) / (max_val - min_val) * (max_range - min_range) + min_range.\n",
    "Substitute the values into the formula: scaled_values = [(1 - 1) / (20 - 1) * (1 - (-1)) + (-1), (5 - 1) / (20 - 1) * (1 - (-1)) + (-1), (10 - 1) / (20 - 1) * (1 - (-1)) + (-1), (15 - 1) / (20 - 1) * (1 - (-1)) + (-1), (20 - 1) / (20 - 1) * (1 - (-1)) + (-1)].\n",
    "Calculate the scaled values: scaled_values = [-1, -0.6, -0.2, 0.2, 0.6].\n",
    "Q8. For a dataset containing the following features: [height, weight, age, gender, blood pressure], perform Feature Extraction using PCA. How many principal components would you choose to retain, and why?\n",
    "\n",
    "To perform Feature Extraction using PCA:\n",
    "\n",
    "Standardize the features to have zero mean and unit variance.\n",
    "Apply PCA to the standardized dataset to identify the principal components.\n",
    "Examine the explained variance ratio of each principal component.\n",
    "Choose the number of principal components to retain based on the cumulative explained variance ratio. Generally, you would aim to retain enough principal components to explain a significant portion of the variance in the data, typically around 80-95%."
   ]
  },
  {
   "cell_type": "code",
   "execution_count": null,
   "id": "6493e261-74f8-494e-8e2c-b16b221c7862",
   "metadata": {},
   "outputs": [],
   "source": []
  }
 ],
 "metadata": {
  "kernelspec": {
   "display_name": "Python 3 (ipykernel)",
   "language": "python",
   "name": "python3"
  },
  "language_info": {
   "codemirror_mode": {
    "name": "ipython",
    "version": 3
   },
   "file_extension": ".py",
   "mimetype": "text/x-python",
   "name": "python",
   "nbconvert_exporter": "python",
   "pygments_lexer": "ipython3",
   "version": "3.10.8"
  }
 },
 "nbformat": 4,
 "nbformat_minor": 5
}
